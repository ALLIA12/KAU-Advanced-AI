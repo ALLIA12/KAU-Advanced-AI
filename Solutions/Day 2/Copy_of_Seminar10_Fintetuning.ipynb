{
  "nbformat": 4,
  "nbformat_minor": 0,
  "metadata": {
    "colab": {
      "provenance": []
    },
    "kernelspec": {
      "name": "python3",
      "display_name": "Python 3"
    },
    "language_info": {
      "name": "python"
    },
    "accelerator": "GPU"
  },
  "cells": [
    {
      "cell_type": "markdown",
      "source": [
        "##Fine Tuning\n",
        "\n",
        "In several machine learning applcations, state of the art modles that work on \"similar\" problems are availabel.\n",
        "\n",
        "Rather than training a network from scratch, it is worthwhile to use the already available model, albeit they are for a slightly different problem\n",
        "\n",
        "This is called transfer learning. Possibly the simplest form of transfer learning is Fine-tuning where we make minor adjustments to a network and use it for a new problems.\n",
        "\n",
        "Fine-tuning is especially effective in cases where limited data is available.\n",
        "\n",
        "Let's explore example of fine-tunign below. We will fine-tune resent18 trained on imagenet"
      ],
      "metadata": {
        "id": "6UJrf5Wg_7Oa"
      }
    },
    {
      "cell_type": "code",
      "source": [
        "!pip install tensorboard"
      ],
      "metadata": {
        "id": "658EoBO6FCQC",
        "colab": {
          "base_uri": "https://localhost:8080/"
        },
        "outputId": "16e6c336-2975-4296-a194-0585b533e646"
      },
      "execution_count": null,
      "outputs": [
        {
          "output_type": "stream",
          "name": "stdout",
          "text": [
            "Requirement already satisfied: tensorboard in /usr/local/lib/python3.10/dist-packages (2.12.3)\n",
            "Requirement already satisfied: absl-py>=0.4 in /usr/local/lib/python3.10/dist-packages (from tensorboard) (1.4.0)\n",
            "Requirement already satisfied: grpcio>=1.48.2 in /usr/local/lib/python3.10/dist-packages (from tensorboard) (1.57.0)\n",
            "Requirement already satisfied: google-auth<3,>=1.6.3 in /usr/local/lib/python3.10/dist-packages (from tensorboard) (2.17.3)\n",
            "Requirement already satisfied: google-auth-oauthlib<1.1,>=0.5 in /usr/local/lib/python3.10/dist-packages (from tensorboard) (1.0.0)\n",
            "Requirement already satisfied: markdown>=2.6.8 in /usr/local/lib/python3.10/dist-packages (from tensorboard) (3.4.4)\n",
            "Requirement already satisfied: numpy>=1.12.0 in /usr/local/lib/python3.10/dist-packages (from tensorboard) (1.23.5)\n",
            "Requirement already satisfied: protobuf>=3.19.6 in /usr/local/lib/python3.10/dist-packages (from tensorboard) (3.20.3)\n",
            "Requirement already satisfied: requests<3,>=2.21.0 in /usr/local/lib/python3.10/dist-packages (from tensorboard) (2.31.0)\n",
            "Requirement already satisfied: setuptools>=41.0.0 in /usr/local/lib/python3.10/dist-packages (from tensorboard) (67.7.2)\n",
            "Requirement already satisfied: tensorboard-data-server<0.8.0,>=0.7.0 in /usr/local/lib/python3.10/dist-packages (from tensorboard) (0.7.1)\n",
            "Requirement already satisfied: werkzeug>=1.0.1 in /usr/local/lib/python3.10/dist-packages (from tensorboard) (2.3.7)\n",
            "Requirement already satisfied: wheel>=0.26 in /usr/local/lib/python3.10/dist-packages (from tensorboard) (0.41.1)\n",
            "Requirement already satisfied: cachetools<6.0,>=2.0.0 in /usr/local/lib/python3.10/dist-packages (from google-auth<3,>=1.6.3->tensorboard) (5.3.1)\n",
            "Requirement already satisfied: pyasn1-modules>=0.2.1 in /usr/local/lib/python3.10/dist-packages (from google-auth<3,>=1.6.3->tensorboard) (0.3.0)\n",
            "Requirement already satisfied: six>=1.9.0 in /usr/local/lib/python3.10/dist-packages (from google-auth<3,>=1.6.3->tensorboard) (1.16.0)\n",
            "Requirement already satisfied: rsa<5,>=3.1.4 in /usr/local/lib/python3.10/dist-packages (from google-auth<3,>=1.6.3->tensorboard) (4.9)\n",
            "Requirement already satisfied: requests-oauthlib>=0.7.0 in /usr/local/lib/python3.10/dist-packages (from google-auth-oauthlib<1.1,>=0.5->tensorboard) (1.3.1)\n",
            "Requirement already satisfied: charset-normalizer<4,>=2 in /usr/local/lib/python3.10/dist-packages (from requests<3,>=2.21.0->tensorboard) (3.2.0)\n",
            "Requirement already satisfied: idna<4,>=2.5 in /usr/local/lib/python3.10/dist-packages (from requests<3,>=2.21.0->tensorboard) (3.4)\n",
            "Requirement already satisfied: urllib3<3,>=1.21.1 in /usr/local/lib/python3.10/dist-packages (from requests<3,>=2.21.0->tensorboard) (2.0.4)\n",
            "Requirement already satisfied: certifi>=2017.4.17 in /usr/local/lib/python3.10/dist-packages (from requests<3,>=2.21.0->tensorboard) (2023.7.22)\n",
            "Requirement already satisfied: MarkupSafe>=2.1.1 in /usr/local/lib/python3.10/dist-packages (from werkzeug>=1.0.1->tensorboard) (2.1.3)\n",
            "Requirement already satisfied: pyasn1<0.6.0,>=0.4.6 in /usr/local/lib/python3.10/dist-packages (from pyasn1-modules>=0.2.1->google-auth<3,>=1.6.3->tensorboard) (0.5.0)\n",
            "Requirement already satisfied: oauthlib>=3.0.0 in /usr/local/lib/python3.10/dist-packages (from requests-oauthlib>=0.7.0->google-auth-oauthlib<1.1,>=0.5->tensorboard) (3.2.2)\n"
          ]
        }
      ]
    },
    {
      "cell_type": "code",
      "execution_count": null,
      "metadata": {
        "id": "mTXa_TWbE5-N"
      },
      "outputs": [],
      "source": [
        "import torch\n",
        "import torch.nn as nn\n",
        "import torch.nn.functional as F\n",
        "import torch.optim as optim\n",
        "import numpy as np\n",
        "import matplotlib.pyplot as plt\n",
        "from torchvision import models,transforms\n",
        "from torchvision.utils import make_grid\n",
        "from torchvision.datasets import MNIST\n",
        "from torch.utils.data.sampler import SubsetRandomSampler\n",
        "from torch.utils.tensorboard import SummaryWriter\n",
        "from torchsummary import summary\n"
      ]
    },
    {
      "cell_type": "code",
      "source": [
        "# MNIST\n",
        "def mnist(batch_sz, valid_size=0.2, shuffle=True, random_seed=2000):\n",
        "    num_classes = 10\n",
        "    transform_train = transforms.Compose([\n",
        "                        transforms.RandomCrop(28, padding=4),\n",
        "                        transforms.ToTensor(),\n",
        "                    ])\n",
        "\n",
        "    transform_valid = transforms.Compose([\n",
        "                        transforms.ToTensor(),\n",
        "                    ])\n",
        "\n",
        "    transform_test = transforms.Compose([\n",
        "                        transforms.ToTensor(),\n",
        "                    ])\n",
        "\n",
        "\n",
        "    # Training dataset\n",
        "    train_data = MNIST(root='./datasets', train=True, download=True, transform=transform_train)\n",
        "    valid_data = MNIST(root='./datasets', train=True, download=True, transform=transform_valid)\n",
        "    num_train = len(train_data)\n",
        "    indices = list(range(num_train))\n",
        "    split = int(np.floor(valid_size * num_train))\n",
        "    if shuffle == True:\n",
        "        np.random.seed(random_seed)\n",
        "        np.random.shuffle(indices)\n",
        "    train_idx, valid_idx = indices[split:], indices[:split]\n",
        "\n",
        "    train_sampler = SubsetRandomSampler(train_idx)\n",
        "    valid_sampler = SubsetRandomSampler(valid_idx)\n",
        "    train_loader = torch.utils.data.DataLoader(train_data, batch_size=batch_sz, sampler=train_sampler,pin_memory=True)\n",
        "    valid_loader = torch.utils.data.DataLoader(valid_data, batch_size=batch_sz, sampler=valid_sampler,pin_memory=True)\n",
        "\n",
        "    # Test dataset\n",
        "    test_data = MNIST(root='./datasets', train=False, download=True, transform=transform_test)\n",
        "    test_loader = torch.utils.data.DataLoader(test_data,\n",
        "                                              batch_size=batch_sz, shuffle=False, pin_memory=True)\n",
        "\n",
        "    return train_loader, valid_loader, test_loader\n",
        "\n"
      ],
      "metadata": {
        "id": "ZF2RZgvYFEmn"
      },
      "execution_count": null,
      "outputs": []
    },
    {
      "cell_type": "code",
      "source": [
        "batch_sz=64 # this is batch size i.e. the number of rows in a batch of data\n",
        "train_loader, valid_loader, test_loader=mnist(batch_sz)"
      ],
      "metadata": {
        "id": "DzC-yrpaFG3Y",
        "colab": {
          "base_uri": "https://localhost:8080/"
        },
        "outputId": "94507f2e-af9d-4d2b-c9d3-7e7e6e9781be"
      },
      "execution_count": null,
      "outputs": [
        {
          "output_type": "stream",
          "name": "stdout",
          "text": [
            "Downloading http://yann.lecun.com/exdb/mnist/train-images-idx3-ubyte.gz\n",
            "Downloading http://yann.lecun.com/exdb/mnist/train-images-idx3-ubyte.gz to ./datasets/MNIST/raw/train-images-idx3-ubyte.gz\n"
          ]
        },
        {
          "output_type": "stream",
          "name": "stderr",
          "text": [
            "100%|██████████| 9912422/9912422 [00:00<00:00, 246247630.82it/s]\n"
          ]
        },
        {
          "output_type": "stream",
          "name": "stdout",
          "text": [
            "Extracting ./datasets/MNIST/raw/train-images-idx3-ubyte.gz to ./datasets/MNIST/raw\n",
            "\n",
            "Downloading http://yann.lecun.com/exdb/mnist/train-labels-idx1-ubyte.gz\n",
            "Downloading http://yann.lecun.com/exdb/mnist/train-labels-idx1-ubyte.gz to ./datasets/MNIST/raw/train-labels-idx1-ubyte.gz\n"
          ]
        },
        {
          "output_type": "stream",
          "name": "stderr",
          "text": [
            "100%|██████████| 28881/28881 [00:00<00:00, 27160469.47it/s]\n"
          ]
        },
        {
          "output_type": "stream",
          "name": "stdout",
          "text": [
            "Extracting ./datasets/MNIST/raw/train-labels-idx1-ubyte.gz to ./datasets/MNIST/raw\n",
            "\n",
            "Downloading http://yann.lecun.com/exdb/mnist/t10k-images-idx3-ubyte.gz\n",
            "Downloading http://yann.lecun.com/exdb/mnist/t10k-images-idx3-ubyte.gz to ./datasets/MNIST/raw/t10k-images-idx3-ubyte.gz\n"
          ]
        },
        {
          "output_type": "stream",
          "name": "stderr",
          "text": [
            "100%|██████████| 1648877/1648877 [00:00<00:00, 155567108.98it/s]\n"
          ]
        },
        {
          "output_type": "stream",
          "name": "stdout",
          "text": [
            "Extracting ./datasets/MNIST/raw/t10k-images-idx3-ubyte.gz to ./datasets/MNIST/raw\n",
            "\n",
            "Downloading http://yann.lecun.com/exdb/mnist/t10k-labels-idx1-ubyte.gz\n",
            "Downloading http://yann.lecun.com/exdb/mnist/t10k-labels-idx1-ubyte.gz to ./datasets/MNIST/raw/t10k-labels-idx1-ubyte.gz\n"
          ]
        },
        {
          "output_type": "stream",
          "name": "stderr",
          "text": [
            "100%|██████████| 4542/4542 [00:00<00:00, 5774637.40it/s]"
          ]
        },
        {
          "output_type": "stream",
          "name": "stdout",
          "text": [
            "Extracting ./datasets/MNIST/raw/t10k-labels-idx1-ubyte.gz to ./datasets/MNIST/raw\n",
            "\n"
          ]
        },
        {
          "output_type": "stream",
          "name": "stderr",
          "text": [
            "\n"
          ]
        }
      ]
    },
    {
      "cell_type": "code",
      "source": [
        "#Training Resnet from pre-trained weights\n",
        "\n",
        "#specify a folder under run for tensorboard data for the training\n",
        "writer = SummaryWriter(\"runs/lr_1\")\n",
        "\n",
        "device=torch.device('cuda:0')\n",
        "\n",
        "\n",
        "net=models.resnet18(pretrained=True)\n",
        "net.conv1=nn.Conv2d(1, 64, kernel_size=(7, 7), stride=(2, 2), padding=(3, 3), bias=False)\n",
        "net.fc=nn.Linear (in_features=512, out_features=10, bias=True)\n",
        "\n",
        "net=net.to(device)\n",
        "lr=.01\n",
        "momentum=0.5\n",
        "optimizer = optim.SGD(net.parameters(), lr=lr, momentum=momentum)\n",
        "lr_scheduler = optim.lr_scheduler.ExponentialLR(optimizer, gamma=0.9, verbose=True)\n",
        "\n",
        "\n",
        "ls=[]\n",
        "for i in range(5):\n",
        "  loss_total=0\n",
        "  loss_val=0\n",
        "  acc_train=0\n",
        "  total_train=0\n",
        "  for ii,batch in enumerate(train_loader):\n",
        "    data=batch[0]\n",
        "    label=batch[1]\n",
        "    #optimizer-->buffer += grad\n",
        "    optimizer.zero_grad()\n",
        "    data, label = data.to(device), label.to(device)\n",
        "    logits = net(data)\n",
        "    #this is the output of the network and it's shape is batch_size X no of classes\n",
        "    loss = F.cross_entropy(logits, label)\n",
        "    loss_total+=loss.item()\n",
        "\n",
        "    loss.backward()\n",
        "    optimizer.step()\n",
        "    out=torch.argmax(logits, dim=1)\n",
        "    acc_train+=torch.sum(out==label)\n",
        "    total_train+=logits.shape[0]\n",
        "\n",
        "  acc_val=0\n",
        "  total_val=0\n",
        "  with torch.no_grad():\n",
        "    for jj,batch in enumerate(valid_loader):\n",
        "          data=batch[0]\n",
        "          label=batch[1]\n",
        "          #optimizer-->buffer += grad\n",
        "          data, label = data.to(device), label.to(device)\n",
        "          logits = net(data)\n",
        "          loss = F.cross_entropy(logits, label)\n",
        "          loss_val+=loss.item()\n",
        "          out=torch.argmax(logits, dim=1)\n",
        "          acc_val+=torch.sum(out==label)\n",
        "          total_val+=logits.shape[0]\n",
        "\n",
        "\n",
        "\n",
        "  ls.append(loss_total)\n",
        "  lr_scheduler.step()\n",
        "  print(f\"Iterataion {i}: Training Loss: {loss_total/ii}, Validation Loss: {loss_val/jj}\")\n",
        "  print(f\"Iteataion {i}: Training Accuracy: {acc_train.item()/total_train}, Validation Accuracy  {acc_val.item()/total_val}\")\n",
        "  writer.add_scalar('Loss/train', loss_total/ii, i)\n",
        "  writer.add_scalar('Loss/test', loss_val/jj, i)\n",
        "  writer.add_scalar('Accuracy/train', acc_train.item()/total_train, i)\n",
        "  writer.add_scalar('Accuracy/test', acc_val.item()/total_val, i)\n",
        "plt.plot(ls)"
      ],
      "metadata": {
        "colab": {
          "base_uri": "https://localhost:8080/",
          "height": 567
        },
        "id": "T8lIWknNFJxC",
        "outputId": "9e64c711-f548-462f-c338-58869195f139"
      },
      "execution_count": null,
      "outputs": [
        {
          "output_type": "stream",
          "name": "stdout",
          "text": [
            "Adjusting learning rate of group 0 to 1.0000e-02.\n",
            "Adjusting learning rate of group 0 to 9.0000e-03.\n",
            "Iterataion 0: Training Loss: 0.278371469932142, Validation Loss: 0.10571582024956849\n",
            "Iteataion 0: Training Accuracy: 0.9122916666666666, Validation Accuracy  0.96725\n",
            "Adjusting learning rate of group 0 to 8.1000e-03.\n",
            "Iterataion 1: Training Loss: 0.09802068936861107, Validation Loss: 0.07202396945739016\n",
            "Iteataion 1: Training Accuracy: 0.97, Validation Accuracy  0.9789166666666667\n",
            "Adjusting learning rate of group 0 to 7.2900e-03.\n",
            "Iterataion 2: Training Loss: 0.06890438195847681, Validation Loss: 0.058477658731738394\n",
            "Iteataion 2: Training Accuracy: 0.9787916666666666, Validation Accuracy  0.982\n",
            "Adjusting learning rate of group 0 to 6.5610e-03.\n",
            "Iterataion 3: Training Loss: 0.055944313640234986, Validation Loss: 0.047079404539622886\n",
            "Iteataion 3: Training Accuracy: 0.9832083333333334, Validation Accuracy  0.98625\n",
            "Adjusting learning rate of group 0 to 5.9049e-03.\n",
            "Iterataion 4: Training Loss: 0.044618418579175076, Validation Loss: 0.046894737380497\n",
            "Iteataion 4: Training Accuracy: 0.9865833333333334, Validation Accuracy  0.9863333333333333\n"
          ]
        },
        {
          "output_type": "execute_result",
          "data": {
            "text/plain": [
              "[<matplotlib.lines.Line2D at 0x7fc6b5008bd0>]"
            ]
          },
          "metadata": {},
          "execution_count": 10
        },
        {
          "output_type": "display_data",
          "data": {
            "text/plain": [
              "<Figure size 432x288 with 1 Axes>"
            ],
            "image/png": "[encoded data removed]"
          },
          "metadata": {
            "needs_background": "light"
          }
        }
      ]
    },
    {
      "cell_type": "code",
      "source": [
        "#Fine=tuning just the first and last layer\n",
        "\n",
        "#specify a folder under run for tensorboard data for the training\n",
        "writer = SummaryWriter(\"runs/lr_1\")\n",
        "\n",
        "device=torch.device('cuda:0')\n",
        "\n",
        "\n",
        "net=models.resnet18(pretrained=True)\n",
        "for layer in net.parameters():\n",
        "  layer.requires_grad=False\n",
        "net.conv1=nn.Conv2d(1, 64, kernel_size=(7, 7), stride=(2, 2), padding=(3, 3), bias=False)\n",
        "net.fc=nn.Linear (in_features=512, out_features=10, bias=True)\n",
        "\n",
        "for name,layer in net.named_parameters():\n",
        "  print(f\"layer {name} has requires_grad {layer.requires_grad}\")\n",
        "net=net.to(device)\n",
        "lr=.01\n",
        "momentum=0.5\n",
        "optimizer = optim.SGD(net.parameters(), lr=lr, momentum=momentum)\n",
        "lr_scheduler = optim.lr_scheduler.ExponentialLR(optimizer, gamma=0.9, verbose=True)\n",
        "\n",
        "\n",
        "ls=[]\n",
        "for i in range(5):\n",
        "  loss_total=0\n",
        "  loss_val=0\n",
        "  acc_train=0\n",
        "  total_train=0\n",
        "  for ii,batch in enumerate(train_loader):\n",
        "    data=batch[0]\n",
        "    label=batch[1]\n",
        "    #optimizer-->buffer += grad\n",
        "    optimizer.zero_grad()\n",
        "    data, label = data.to(device), label.to(device)\n",
        "    logits = net(data)\n",
        "    #this is the output of the network and it's shape is batch_size X no of classes\n",
        "    loss = F.cross_entropy(logits, label)\n",
        "    loss_total+=loss.item()\n",
        "\n",
        "    loss.backward()\n",
        "    optimizer.step()\n",
        "    out=torch.argmax(logits, dim=1)\n",
        "    acc_train+=torch.sum(out==label)\n",
        "    total_train+=logits.shape[0]\n",
        "\n",
        "  acc_val=0\n",
        "  total_val=0\n",
        "  with torch.no_grad():\n",
        "    for jj,batch in enumerate(valid_loader):\n",
        "          data=batch[0]\n",
        "          label=batch[1]\n",
        "          #optimizer-->buffer += grad\n",
        "          data, label = data.to(device), label.to(device)\n",
        "          logits = net(data)\n",
        "          loss = F.cross_entropy(logits, label)\n",
        "          loss_val+=loss.item()\n",
        "          out=torch.argmax(logits, dim=1)\n",
        "          acc_val+=torch.sum(out==label)\n",
        "          total_val+=logits.shape[0]\n",
        "\n",
        "\n",
        "\n",
        "  ls.append(loss_total)\n",
        "  lr_scheduler.step()\n",
        "  print(f\"Iterataion {i}: Training Loss: {loss_total/ii}, Validation Loss: {loss_val/jj}\")\n",
        "  print(f\"Iteataion {i}: Training Accuracy: {acc_train.item()/total_train}, Validation Accuracy  {acc_val.item()/total_val}\")\n",
        "  writer.add_scalar('Loss/train', loss_total/ii, i)\n",
        "  writer.add_scalar('Loss/test', loss_val/jj, i)\n",
        "  writer.add_scalar('Accuracy/train', acc_train.item()/total_train, i)\n",
        "  writer.add_scalar('Accuracy/test', acc_val.item()/total_val, i)\n",
        "plt.plot(ls)"
      ],
      "metadata": {
        "id": "WO0gbalMFkf-"
      },
      "execution_count": null,
      "outputs": []
    },
    {
      "cell_type": "code",
      "source": [
        "for name,layer in net.named_parameters():\n",
        "  print(f\"{name}has requires_grad {layer.requires_grad}\")"
      ],
      "metadata": {
        "id": "c2kXx9FLFoL9"
      },
      "execution_count": null,
      "outputs": []
    },
    {
      "cell_type": "code",
      "source": [],
      "metadata": {
        "id": "5fOuuOzYFxus"
      },
      "execution_count": null,
      "outputs": []
    }
  ]
}