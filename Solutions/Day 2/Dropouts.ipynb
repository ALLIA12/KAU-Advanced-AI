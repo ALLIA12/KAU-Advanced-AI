{
 "nbformat": 4,
 "nbformat_minor": 0,
 "metadata": {
  "colab": {
   "provenance": [],
   "authorship_tag": "ABX9TyMYGHA1wi4ND8t9KBaInUkz"
  },
  "kernelspec": {
   "name": "python3",
   "display_name": "Python 3"
  },
  "language_info": {
   "name": "python"
  }
 },
 "cells": [
  {
   "cell_type": "code",
   "execution_count": 1,
   "metadata": {
    "id": "B22wowEP9SWl",
    "executionInfo": {
     "status": "ok",
     "timestamp": 1708938209417,
     "user_tz": -180,
     "elapsed": 14481,
     "user": {
      "displayName": "Muhammad Mubashar",
      "userId": "14515435323579848862"
     }
    }
   },
   "outputs": [],
   "source": [
    "import torch\n",
    "import torch.nn as nn\n",
    "import torch.nn.functional as F\n",
    "import torch.optim as optim\n",
    "import numpy as np\n",
    "import matplotlib.pyplot as plt\n",
    "from torchvision import models,transforms\n",
    "from torchvision.utils import make_grid\n",
    "from torchvision.datasets import MNIST\n",
    "from torch.utils.data.sampler import SubsetRandomSampler\n",
    "from torch.utils.tensorboard import SummaryWriter\n",
    "from torchsummary import summary\n",
    "from torch.utils.data import Dataset, DataLoader"
   ]
  },
  {
   "cell_type": "code",
   "source": [
    "class Dropout_Demo(nn.Module):\n",
    "  def __init__(self):\n",
    "    super().__init__()\n",
    "    self.dropout_layer = nn.Dropout(0.7)\n",
    "\n",
    "\n",
    "  def forward(self, x):\n",
    "    x = self.dropout_layer(x)\n",
    "    return x\n",
    "\n",
    "\n"
   ],
   "metadata": {
    "id": "ehgIoOTU9uuj",
    "executionInfo": {
     "status": "ok",
     "timestamp": 1708938890884,
     "user_tz": -180,
     "elapsed": 1,
     "user": {
      "displayName": "Muhammad Mubashar",
      "userId": "14515435323579848862"
     }
    }
   },
   "execution_count": 24,
   "outputs": []
  },
  {
   "cell_type": "code",
   "source": [
    "dropout_model = Dropout_Demo()\n",
    "toy_data = torch.ones([1,10]).float()\n",
    "toy_data"
   ],
   "metadata": {
    "colab": {
     "base_uri": "https://localhost:8080/"
    },
    "id": "-Q8_h0LS-D7N",
    "executionInfo": {
     "status": "ok",
     "timestamp": 1708938891354,
     "user_tz": -180,
     "elapsed": 3,
     "user": {
      "displayName": "Muhammad Mubashar",
      "userId": "14515435323579848862"
     }
    },
    "outputId": "4fb46e37-5148-448a-f10f-43fbf3e3dbb8"
   },
   "execution_count": 25,
   "outputs": [
    {
     "output_type": "execute_result",
     "data": {
      "text/plain": [
       "tensor([[1., 1., 1., 1., 1., 1., 1., 1., 1., 1.]])"
      ]
     },
     "metadata": {},
     "execution_count": 25
    }
   ]
  },
  {
   "cell_type": "code",
   "source": [
    "dropout_model.train()\n",
    "dropout_model(toy_data)"
   ],
   "metadata": {
    "colab": {
     "base_uri": "https://localhost:8080/"
    },
    "id": "68foZGzX-WJC",
    "executionInfo": {
     "status": "ok",
     "timestamp": 1708939114035,
     "user_tz": -180,
     "elapsed": 692,
     "user": {
      "displayName": "Muhammad Mubashar",
      "userId": "14515435323579848862"
     }
    },
    "outputId": "c2cb4c86-5121-4881-e784-6dbc4e715fbd"
   },
   "execution_count": 27,
   "outputs": [
    {
     "output_type": "execute_result",
     "data": {
      "text/plain": [
       "tensor([[3.3333, 0.0000, 0.0000, 0.0000, 0.0000, 3.3333, 0.0000, 3.3333, 3.3333,\n",
       "         0.0000]])"
      ]
     },
     "metadata": {},
     "execution_count": 27
    }
   ]
  },
  {
   "cell_type": "code",
   "source": [
    "dropout_model.eval()\n",
    "dropout_model(toy_data)"
   ],
   "metadata": {
    "colab": {
     "base_uri": "https://localhost:8080/"
    },
    "id": "sAIoB-AR-b4N",
    "executionInfo": {
     "status": "ok",
     "timestamp": 1708938606791,
     "user_tz": -180,
     "elapsed": 446,
     "user": {
      "displayName": "Muhammad Mubashar",
      "userId": "14515435323579848862"
     }
    },
    "outputId": "71352113-696f-4e8f-99a8-0340a254b8ef"
   },
   "execution_count": 17,
   "outputs": [
    {
     "output_type": "execute_result",
     "data": {
      "text/plain": [
       "tensor([[1., 1., 1., 1., 1., 1., 1., 1., 1., 1.]])"
      ]
     },
     "metadata": {},
     "execution_count": 17
    }
   ]
  },
  {
   "cell_type": "code",
   "source": [],
   "metadata": {
    "id": "gQYoP0Ce-idy"
   },
   "execution_count": null,
   "outputs": []
  }
 ]
}
