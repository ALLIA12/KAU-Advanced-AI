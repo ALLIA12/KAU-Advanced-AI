{
  "nbformat": 4,
  "nbformat_minor": 0,
  "metadata": {
    "colab": {
      "provenance": []
    },
    "kernelspec": {
      "name": "python3",
      "display_name": "Python 3"
    },
    "language_info": {
      "name": "python"
    },
    "accelerator": "GPU"
  },
  "cells": [
    {
      "cell_type": "markdown",
      "source": [
        "In this notebook, we will implement a Convoulutional Neural Network (CNN) using pytorch for MNIST Classification."
      ],
      "metadata": {
        "id": "4Eo1RFp4AmuA"
      }
    },
    {
      "cell_type": "markdown",
      "source": [
        "Expectations: Please provide solutions to the questions in the cells at the end of the notebook."
      ],
      "metadata": {
        "id": "_-O8HVTpkbZm"
      }
    },
    {
      "cell_type": "code",
      "execution_count": 1,
      "metadata": {
        "id": "Vqg8SEXq55vV"
      },
      "outputs": [],
      "source": [
        "# Imports\n",
        "import torch\n",
        "import torch.nn as nn\n",
        "import torch.nn.functional as F\n",
        "import torch.optim as optim\n",
        "import numpy as np\n",
        "import matplotlib.pyplot as plt\n",
        "from torchvision import models,transforms\n",
        "from torchvision.utils import make_grid\n",
        "from torchvision.datasets import MNIST\n",
        "from torch.utils.data.sampler import SubsetRandomSampler\n",
        "from torch.utils.tensorboard import SummaryWriter\n",
        "from torchsummary import summary\n",
        "from torch.utils.data import Dataset, DataLoader"
      ]
    },
    {
      "cell_type": "markdown",
      "source": [
        "We will be using MNIST Disgits datasets. The MNIST Digits dataset consists of 70000 28x28 grayscale images of digits from 0 to 9, with 6000 images per class. There are 60000 training images and 10000 test images. <br>\n",
        "\n",
        "Following are the some random samples from the dataset.\n",
        "\n",
        "![MNIST Samples](https://www.yunzhew.com/project/mnist-digit-net/featured_hudee2c27f78ea2485e0d3aa44abbfc53c_218555_720x2500_fit_q75_h2_lanczos_3.webp)"
      ],
      "metadata": {
        "id": "dSlDpJqVBLoL"
      }
    },
    {
      "cell_type": "markdown",
      "source": [
        "We will use pytorch datasets to fetch the MNIST Digits dataset as it provides a handy way to get and use the dataset. More information about pytorch datasets [here](https://pytorch.org/vision/stable/datasets.html)."
      ],
      "metadata": {
        "id": "zK94z-ilDh0l"
      }
    },
    {
      "cell_type": "markdown",
      "source": [
        "# Data Loading"
      ],
      "metadata": {
        "id": "2i3viwCIE-1f"
      }
    },
    {
      "cell_type": "code",
      "source": [
        "batch_sz=64 # this is batch size i.e. the number of rows in a batch of data\n",
        "\n",
        "# Import the Dataset\n",
        "train_dataset = MNIST(root='./datasets', train=True, download=True, transform = transforms.ToTensor())\n",
        "test_dataset = MNIST(root='./datasets', train=False, download=True, transform = transforms.ToTensor())\n",
        "\n",
        "# Create DataLoaders\n",
        "train_loader = DataLoader(train_dataset, batch_size = batch_sz, shuffle = True)\n",
        "test_loader = DataLoader(test_dataset, batch_size = batch_sz)"
      ],
      "metadata": {
        "id": "8AQyKnqBbm9X"
      },
      "execution_count": 2,
      "outputs": []
    },
    {
      "cell_type": "code",
      "source": [
        "# len() returns the number of batches in the train loader\n",
        "# ouput is = num_samples / batch size - > 60,000/64\n",
        "len(train_loader)"
      ],
      "metadata": {
        "colab": {
          "base_uri": "https://localhost:8080/"
        },
        "id": "FQ9DoKj7b9oE",
        "outputId": "207d3aa2-25fd-410d-d434-c87bd1973d7c"
      },
      "execution_count": 3,
      "outputs": [
        {
          "output_type": "execute_result",
          "data": {
            "text/plain": [
              "938"
            ]
          },
          "metadata": {},
          "execution_count": 3
        }
      ]
    },
    {
      "cell_type": "code",
      "source": [
        "# iter() makes the train_loader iteratable, so we can take the first batch\n",
        "# next() takes the first batch\n",
        "x, y = next(iter(train_loader))\n",
        "\n",
        "# Print the shape\n",
        "# 64 is the batch size, 1 is the number of channels (1 because it is gray scale images), 28 28 are the width and height.\n",
        "x.shape"
      ],
      "metadata": {
        "colab": {
          "base_uri": "https://localhost:8080/"
        },
        "id": "eYhSV7aD11mb",
        "outputId": "84abbeb6-4796-40ab-ee97-ec1009bce265"
      },
      "execution_count": 4,
      "outputs": [
        {
          "output_type": "execute_result",
          "data": {
            "text/plain": [
              "torch.Size([64, 1, 28, 28])"
            ]
          },
          "metadata": {},
          "execution_count": 4
        }
      ]
    },
    {
      "cell_type": "markdown",
      "source": [
        "## Convolutional Neural Networks"
      ],
      "metadata": {
        "id": "u65mV2e_2H_8"
      }
    },
    {
      "cell_type": "markdown",
      "source": [
        "Now, we will construct a Convolutional Neural Network. Convolutional neural networks are a type of neural networks which are typically applied to image data. They work by convolving a filter on an image. Filters act as weights of CNN and we learn these filters to extract useful information from an image. Filters are also sometimes called kernels.\n",
        "<br>\n",
        "\n",
        "We element-wise muliply a filter with a patch of input data and then sum the result.<br>\n",
        "$$z_{ij} = W \\star x_{ij} = \\sum^{m-1}_{a=0}\\sum^{m-1}_{b=0} W_{ab} \\: x_{(i+a)(j+b)}$$\n",
        "![convolution](https://upload.wikimedia.org/wikipedia/commons/1/19/2D_Convolution_Animation.gif) [source](https://commons.wikimedia.org/wiki/File:2D_Convolution_Animation.gif)\n",
        "\n",
        "<br>\n",
        "\n",
        "A convolutional layer in a CNN consists of a number applying a number of such filters to the input. The output of each of these filters is stacked in the form of multiple channels (just like we have 3 channesl in an RGB image). The filters then also become 3-dimensional.\n",
        "\n",
        "![2d conv](https://miro.medium.com/v2/resize:fit:1100/format:webp/1*oFVlkvZp848nh-QoD3pREw.png) [source](https://towardsdatascience.com/a-comprehensive-introduction-to-different-types-of-convolutions-in-deep-learning-669281e58215)"
      ],
      "metadata": {
        "id": "_nQ-MHGI2MuW"
      }
    },
    {
      "cell_type": "markdown",
      "source": [
        "### Stride"
      ],
      "metadata": {
        "id": "4ooJgob8AywM"
      }
    },
    {
      "cell_type": "markdown",
      "source": [
        "When we are dealing with convolution on images of very large size, its not always required to convolve over each and every pixel of an image. So we can set the subsequent convolutions to be shifted by more than one pixel in either the vertical or horizontal axis. This shift in subsequent convolutions is called the stride.\n",
        "\n",
        "![stride](https://miro.medium.com/v2/resize:fit:1400/1*BNLPHcNxLCgtwlJHnSs9oA.gif) [source](https://medium.com/swlh/convolutional-neural-networks-part-2-padding-and-strided-convolutions-c63c25026eaa)"
      ],
      "metadata": {
        "id": "dv8twKrxA1LI"
      }
    },
    {
      "cell_type": "markdown",
      "source": [
        "### Pooling"
      ],
      "metadata": {
        "id": "PT-HLosN9unN"
      }
    },
    {
      "cell_type": "markdown",
      "source": [
        "The pooling operation involves sliding a two-dimensional filter over each channel of feature map and summarising the features lying within the region covered by the filter.\n",
        "\n",
        "Pooling layers are used to reduce the dimensions of the feature maps and summarising the featre maps.\n",
        "\n",
        "Types of Pooling Layers:\n",
        "1.   Max Pooling: <br>\n",
        "Max pooling is a pooling operation that selects the maximum element from the region of the feature map covered by the filter. This is the most commonly used pooling layer.\n",
        "![Max Pooling](https://media.geeksforgeeks.org/wp-content/uploads/20190721025744/Screenshot-2019-07-21-at-2.57.13-AM.png) [source](https://www.geeksforgeeks.org/cnn-introduction-to-pooling-layer/)\n",
        "\n",
        "\n",
        "2.   Average Pooling: <br>\n",
        "Average pooling computes the average of the elements present in the region of feature map covered by the filter.\n",
        "![Avg Pooling](https://media.geeksforgeeks.org/wp-content/uploads/20190721030705/Screenshot-2019-07-21-at-3.05.56-AM.png) [source](https://www.geeksforgeeks.org/cnn-introduction-to-pooling-layer/)\n",
        "\n"
      ],
      "metadata": {
        "id": "spWnWvfo9w8a"
      }
    },
    {
      "cell_type": "markdown",
      "source": [
        "### Convolutional Neural Network\n",
        "A common CNN model architecture is to have a number of convolution and pooling layers stacked one after the other.\n",
        "![cnn](https://indiantechwarrior.com/wp-content/uploads/2021/04/LeNet-1024x393.png) [source](https://indiantechwarrior.com/convolutional-neural-network-architecture/)\n",
        "\n"
      ],
      "metadata": {
        "id": "cdzVnj6vC2Em"
      }
    },
    {
      "cell_type": "markdown",
      "source": [
        "We will use the categorical crossentropy loss here which is traditionally used for classification.\n",
        "\n",
        "$$\\mathcal{L} = \\frac{1}{N} \\sum^{N}_{i=1} \\left ( \\sum^{C}_{j=1} -y_{i,j}\\: log(\\hat{y}_{i,j}) \\right )$$\n",
        "\n",
        "where $y_i,j$ is the groundtruth, $\\hat{y}_{i,j}$ is the prediction, $C$ is the number classes and $N$ is the number of data samples."
      ],
      "metadata": {
        "id": "LXe05pWKDxgk"
      }
    },
    {
      "cell_type": "markdown",
      "source": [
        "# Exercises"
      ],
      "metadata": {
        "id": "cEjSbcerFkLl"
      }
    },
    {
      "cell_type": "markdown",
      "source": [
        "## Models"
      ],
      "metadata": {
        "id": "hb45Si6ZFpGz"
      }
    },
    {
      "cell_type": "code",
      "source": [
        "#Q1: define a 2 layer simple NN for mnist digit classificaiton"
      ],
      "metadata": {
        "id": "tj22mlJ-VhEt"
      },
      "execution_count": 5,
      "outputs": []
    },
    {
      "cell_type": "code",
      "source": [
        "# NN model\n",
        "\n",
        "class NN(nn.Module):\n",
        "  def __init__(self, input, output):\n",
        "    super(NN, self).__init__()\n",
        "    self.linear1 = nn.Linear(input, 271)\n",
        "    self.linear2 = nn.Linear(271, output)\n",
        "    self.relu = nn.ReLU()\n",
        "    self.softmax  = torch.nn.Softmax(dim = 1) # we use softmax to turn the output into probabilities between 0 and 1.\n",
        "\n",
        "  def forward(self, x):\n",
        "    x = x.view(-1, 28*28)\n",
        "    x = self.linear1(x)\n",
        "    x = self.relu(x)\n",
        "    x = self.linear2(x)\n",
        "    x = self.softmax(x)\n",
        "    return x\n"
      ],
      "metadata": {
        "id": "0__ql-1B6f-3"
      },
      "execution_count": 6,
      "outputs": []
    },
    {
      "cell_type": "code",
      "source": [
        "# CNN model\n",
        "\n",
        "# structure = conv2 layer, max pool, conv2 layer, max pool, linear layer, linear layer\n",
        "class CNN(nn.Module):\n",
        "  def __init__(self, input, output):\n",
        "    super().__init__()\n",
        "\n",
        "    # parameters = input channel num, output channel num, filter size, stride size, padding size\n",
        "    self.conv1 = nn.Conv2d(input,20,3,1,1) # 2d since we're dealing with pics\n",
        "    self.conv2 = nn.Conv2d(20,50,3,1,1)\n",
        "    self.linear1 = nn.Linear(50 * 7 * 7 , 100) # from forward passing\n",
        "    self.linear2 = nn.Linear(100,output) # output = 10 numbers -> 10 classes\n",
        "\n",
        "  def forward(self, x):\n",
        "    # feature extractor part\n",
        "    # x = (1,28,28)\n",
        "    x = self.conv1(x)\n",
        "    x1 = torch.relu(x)\n",
        "\n",
        "    # x = (20,28,28) - > conv layer only chaneged the num of channels here\n",
        "    x = F.max_pool2d(x1, (2,2)) # 2,2 size of the max pool filter\n",
        "\n",
        "    # x = (20,14,14)\n",
        "    x = self.conv2(x)\n",
        "    x2 = torch.relu(x)\n",
        "\n",
        "    # x = (50,14,14)\n",
        "    x = F.max_pool2d(x2, (2,2))\n",
        "\n",
        "    # x = (50,7,7)\n",
        "    #flatten it before sending it to the linear layers\n",
        "    x = x.view(-1, 50* 7 * 7)\n",
        "    x = self.linear1(x)\n",
        "    x = torch.relu(x)\n",
        "    x = self.linear2(x)\n",
        "\n",
        "    # x = torch.softmax(x)  we dont add softmax because it is used in cross entropy loss\n",
        "    return x, x1, x2"
      ],
      "metadata": {
        "id": "qPzVoKv26mqo"
      },
      "execution_count": 7,
      "outputs": []
    },
    {
      "cell_type": "markdown",
      "source": [
        "## Training"
      ],
      "metadata": {
        "id": "3KorwaNiFsd5"
      }
    },
    {
      "cell_type": "code",
      "source": [
        "# Define the device to use GPU\n",
        "device = 'cuda' if torch.cuda.is_available() else 'cpu'"
      ],
      "metadata": {
        "id": "S2GPzQG9w26a"
      },
      "execution_count": 8,
      "outputs": []
    },
    {
      "cell_type": "code",
      "source": [
        "#Q3: Train both networks for 10 epochs and compare their performance"
      ],
      "metadata": {
        "id": "XTzOQX0DOTYc"
      },
      "execution_count": 9,
      "outputs": []
    },
    {
      "cell_type": "code",
      "source": [
        "# NN model training\n",
        "\n",
        "# 1 is the number of channels, 28*28 are the width and height of the image\n",
        "# always print out the shape of your data.\n",
        "model1 = NN(1*28*28, 10).to(device)\n",
        "optimizer = torch.optim.Adam(model1.parameters(), lr = 0.01)\n",
        "criterion = nn.CrossEntropyLoss()\n",
        "\n",
        "epoch = 10\n",
        "ls = []\n",
        "\n",
        "for i in range(epoch):\n",
        "  total_loss = 0\n",
        "  for X, y in train_loader: # We take the X and y directly from the batch\n",
        "    X, y = X.to(device), y.to(device)\n",
        "\n",
        "    # forward pass\n",
        "    output = model1(X)\n",
        "\n",
        "    # calculate loss\n",
        "    loss = criterion(output, y)\n",
        "\n",
        "    # backward passing\n",
        "    optimizer.zero_grad()\n",
        "    loss.backward()\n",
        "    optimizer.step()\n",
        "\n",
        "    total_loss+=loss.item()\n",
        "  ls.append(total_loss/len(train_loader))\n",
        "\n",
        "plt.plot(ls)"
      ],
      "metadata": {
        "id": "h7C_3o3POPdu",
        "colab": {
          "base_uri": "https://localhost:8080/",
          "height": 447
        },
        "outputId": "34992b71-a26d-4c3a-d0b9-6f346f976e69"
      },
      "execution_count": 10,
      "outputs": [
        {
          "output_type": "execute_result",
          "data": {
            "text/plain": [
              "[<matplotlib.lines.Line2D at 0x7da8fdbccdc0>]"
            ]
          },
          "metadata": {},
          "execution_count": 10
        },
        {
          "output_type": "display_data",
          "data": {
            "text/plain": [
              "<Figure size 640x480 with 1 Axes>"
            ],
            "image/png": "[encoded data removed]"
          },
          "metadata": {}
        }
      ]
    },
    {
      "cell_type": "code",
      "source": [
        "# CNN model\n",
        "\n",
        "#1 is the number of input channels (gray scale), 10 is the number of classes\n",
        "model2 = CNN(1, 10).to(device)\n",
        "\n",
        "num_epochs = 10\n",
        "lr = 0.1\n",
        "momentum = 0.5\n",
        "\n",
        "opt = optim.SGD(model2.parameters(), lr = lr, momentum = momentum) # define optimizer\n",
        "\n",
        "ls = []\n",
        "for i in range(num_epochs):\n",
        "  total_loss = 0\n",
        "  for batch in train_loader: # Here we take the batch, then extract the X and y from it (it is the same as the training loop above, both are correct).\n",
        "    X,y = batch[0].to(device), batch[1].to(device)\n",
        "\n",
        "    # forward pass\n",
        "    yhat = model2(X)[0]\n",
        "\n",
        "    # calculate loss\n",
        "    loss = F.cross_entropy(yhat, y)\n",
        "\n",
        "    # backward passing\n",
        "    opt.zero_grad()\n",
        "    loss.backward()\n",
        "    opt.step()\n",
        "\n",
        "    total_loss += loss.item()\n",
        "\n",
        "  ls.append(total_loss/len(train_loader))\n",
        "\n",
        "plt.plot(ls)"
      ],
      "metadata": {
        "id": "4tF40n3B668b",
        "colab": {
          "base_uri": "https://localhost:8080/",
          "height": 447
        },
        "outputId": "4a6cc46c-81ee-49df-a254-eee539d31f7a"
      },
      "execution_count": 11,
      "outputs": [
        {
          "output_type": "execute_result",
          "data": {
            "text/plain": [
              "[<matplotlib.lines.Line2D at 0x7da8fb3e7370>]"
            ]
          },
          "metadata": {},
          "execution_count": 11
        },
        {
          "output_type": "display_data",
          "data": {
            "text/plain": [
              "<Figure size 640x480 with 1 Axes>"
            ],
            "image/png": "[encoded data removed]"
          },
          "metadata": {}
        }
      ]
    },
    {
      "cell_type": "markdown",
      "source": [
        "## Evaluation"
      ],
      "metadata": {
        "id": "_uxwwzM0GBNi"
      }
    },
    {
      "cell_type": "code",
      "source": [
        "#Q4: Compare the accuarcay of both networks on the test set"
      ],
      "metadata": {
        "id": "x0AauPBu7mQT"
      },
      "execution_count": 12,
      "outputs": []
    },
    {
      "cell_type": "code",
      "source": [
        "# Accuracy function for NN\n",
        "def Accuracy_NN(model, test_loader):\n",
        "\n",
        "  # all techniques used for training (e.g. dropouts, batch normalization) will be freezed during eval mode\n",
        "  model.eval()\n",
        "\n",
        "  # no_grad() disables gradient calculations to reduce memory consumptions (basically makes it faster)\n",
        "  with torch.no_grad():\n",
        "    correct  = 0\n",
        "    total = 0\n",
        "    for X, y in test_loader:\n",
        "      X, y = X.to(device), y.to(device)\n",
        "\n",
        "      output = model(X)\n",
        "      loss = criterion(output, y)\n",
        "      pred = torch.argmax(output, dim = 1)\n",
        "      correct += sum(pred == y)\n",
        "      total += len(y)\n",
        "\n",
        "  print(f\"The accuracy is {correct.item()/total * 100 :.2f}% \\n\")"
      ],
      "metadata": {
        "id": "TH76QRIdOaFX"
      },
      "execution_count": 13,
      "outputs": []
    },
    {
      "cell_type": "code",
      "source": [
        "# Accuracy function for CNN\n",
        "# they are two different functions because the CNN model also returns the intermediate layers.\n",
        "def Accuracy_CNN(model, test_loader):\n",
        "  model.eval()\n",
        "\n",
        "  with torch.no_grad():\n",
        "    correct  = 0\n",
        "    total = 0\n",
        "    for X, y in test_loader:\n",
        "      X, y = X.to(device), y.to(device)\n",
        "\n",
        "      output = model(X)[0]\n",
        "      loss = criterion(output, y)\n",
        "      pred = torch.argmax(output, dim = 1)\n",
        "      correct += sum(pred == y)\n",
        "      total += len(y)\n",
        "\n",
        "  print(f\"The accuracy is {correct.item()/total * 100 :.2f}% \\n\")"
      ],
      "metadata": {
        "id": "y-3CdUWcIWY1"
      },
      "execution_count": 14,
      "outputs": []
    },
    {
      "cell_type": "code",
      "source": [
        "# NN model\n",
        "Accuracy_NN(model1, test_loader)\n",
        "\n",
        "# CNN model\n",
        "Accuracy_CNN(model2, test_loader)"
      ],
      "metadata": {
        "id": "pCOObPw7XSDD",
        "colab": {
          "base_uri": "https://localhost:8080/"
        },
        "outputId": "3300b733-3d1d-4844-a5ac-7257e4b365ad"
      },
      "execution_count": 15,
      "outputs": [
        {
          "output_type": "stream",
          "name": "stdout",
          "text": [
            "The accuracy is 94.61% \n",
            "\n",
            "The accuracy is 99.01% \n",
            "\n"
          ]
        }
      ]
    },
    {
      "cell_type": "markdown",
      "source": [
        "## Visualization"
      ],
      "metadata": {
        "id": "FFmv7LSwGUHG"
      }
    },
    {
      "cell_type": "code",
      "source": [
        "#Q5: go through the testset and plot some samples of incorrect results"
      ],
      "metadata": {
        "id": "_-cN-QfD7uoC"
      },
      "execution_count": 16,
      "outputs": []
    },
    {
      "cell_type": "code",
      "source": [
        "xs = [] # Images\n",
        "ys = [] # True labels\n",
        "yhats = [] # Predictions\n",
        "with torch.no_grad():\n",
        "  for batch in train_loader:\n",
        "    x,y = batch[0].to(device), batch[1].to(device)\n",
        "    yhat = model2(x)[0]\n",
        "    label = torch.argmax(yhat, dim= 1)\n",
        "    ind_incorrect = label != y # this is a mask its true only when our prediction is wrong\n",
        "    sample = x[ind_incorrect, :, :, :] # only get the samples where we predicted their label wrong\n",
        "    ground_truth = y[ind_incorrect]\n",
        "    ys.append(ground_truth)\n",
        "    yhats.append(label[ind_incorrect])\n",
        "    xs.append(sample)"
      ],
      "metadata": {
        "id": "elp_IvbJBxyj"
      },
      "execution_count": 17,
      "outputs": []
    },
    {
      "cell_type": "code",
      "source": [
        "# enumerating the wrong samples and getting their predicition, ground truths and images\n",
        "for i, element in enumerate(xs):\n",
        "  if element.shape[0] > 0:\n",
        "    sam = xs[i]\n",
        "    gt = ys[i]\n",
        "    pred = yhats[i]"
      ],
      "metadata": {
        "id": "293FlltxB4Ar"
      },
      "execution_count": 18,
      "outputs": []
    },
    {
      "cell_type": "code",
      "source": [
        "# printingt the image, label, and prediction\n",
        "print(f'predicted label = {pred.cpu()}')\n",
        "print(f'ground truth = {gt.cpu()}')\n",
        "plt.imshow(sam[0,0,:,:].cpu())"
      ],
      "metadata": {
        "id": "PffKEU6vIwFe",
        "colab": {
          "base_uri": "https://localhost:8080/",
          "height": 481
        },
        "outputId": "4931725c-1e8b-4eaa-abab-8a8f9b4b9cc5"
      },
      "execution_count": 19,
      "outputs": [
        {
          "output_type": "stream",
          "name": "stdout",
          "text": [
            "predicted label = tensor([6])\n",
            "ground truth = tensor([1])\n"
          ]
        },
        {
          "output_type": "execute_result",
          "data": {
            "text/plain": [
              "<matplotlib.image.AxesImage at 0x7da8fb23b010>"
            ]
          },
          "metadata": {},
          "execution_count": 19
        },
        {
          "output_type": "display_data",
          "data": {
            "text/plain": [
              "<Figure size 640x480 with 1 Axes>"
            ],
            "image/png": "[encoded data removed]"
          },
          "metadata": {}
        }
      ]
    },
    {
      "cell_type": "code",
      "source": [
        "#Q6: show the output of the intermediate layers"
      ],
      "metadata": {
        "id": "OpIUzMqjV1b2"
      },
      "execution_count": 20,
      "outputs": []
    },
    {
      "cell_type": "code",
      "source": [
        "# Get the first batch\n",
        "batch = next(iter(test_loader))\n",
        "X = batch[0].to(device)\n",
        "\n",
        "# Inference the model and get all intermediate layers\n",
        "with torch.no_grad():\n",
        "  Yhat, X1, X2 = model2(X)\n",
        "\n",
        "# Check the channels and the dimensions of the intermediate layers, they match the CNN model architecture.\n",
        "print(X1.shape, X2.shape)"
      ],
      "metadata": {
        "id": "38vMW-mI72cE",
        "colab": {
          "base_uri": "https://localhost:8080/"
        },
        "outputId": "ac0db830-fbbd-4202-c9cf-a0178c45bc7d"
      },
      "execution_count": 21,
      "outputs": [
        {
          "output_type": "stream",
          "name": "stdout",
          "text": [
            "torch.Size([64, 20, 28, 28]) torch.Size([64, 50, 14, 14])\n"
          ]
        }
      ]
    },
    {
      "cell_type": "code",
      "source": [
        "n = 1 # the sample index (change it to see different numbers)\n",
        "\n",
        "# Plotting X1\n",
        "plt.figure(figsize=(16,12)) # initialize the canvas\n",
        "\n",
        "# X1.shape[1] has 20 channels, so it will print all 20 channels.\n",
        "for i in range(X1.shape[1]):\n",
        "  plt.subplot(4,5,i+1)\n",
        "  plt.imshow(X1.cpu()[n,i,:,:])\n",
        "  plt.axis(\"off\")\n",
        "\n",
        "# Plotting X2\n",
        "plt.figure(figsize=(16,16))# initialize the canvas\n",
        "\n",
        "# X1.shape[1] has 50 channels, there will be 50 images\n",
        "for i in range(X2.shape[1]):\n",
        "  plt.subplot(5,10,i+1)\n",
        "  plt.imshow(X2.cpu()[n,i,:,:])\n",
        "  plt.axis(\"off\")"
      ],
      "metadata": {
        "id": "22RUSWL-GSPH",
        "colab": {
          "base_uri": "https://localhost:8080/",
          "height": 1000
        },
        "outputId": "806a23ff-4314-4cae-894b-7e1fcbc96719"
      },
      "execution_count": 22,
      "outputs": [
        {
          "output_type": "display_data",
          "data": {
            "text/plain": [
              "<Figure size 1600x1200 with 20 Axes>"
            ],
            "image/png": "[encoded data removed]"
          },
          "metadata": {}
        },
        {
          "output_type": "display_data",
          "data": {
            "text/plain": [
              "<Figure size 1600x1600 with 50 Axes>"
            ],
            "image/png": "[encoded data removed]"
          },
          "metadata": {}
        }
      ]
    },
    {
      "cell_type": "code",
      "source": [
        "#Q7: Compare the time of training on CPU and GPU"
      ],
      "metadata": {
        "id": "PGRQUcd0i22U"
      },
      "execution_count": 23,
      "outputs": []
    },
    {
      "cell_type": "code",
      "source": [
        "# to solve this question, redo all code above but change the device to cpu,\n",
        "# or simply delete the device line with all .to(device) lines in the code\n",
        "# don't forget to time it."
      ],
      "metadata": {
        "id": "-pQSolKkIB2Q"
      },
      "execution_count": 24,
      "outputs": []
    }
  ]
}